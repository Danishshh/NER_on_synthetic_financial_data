{
 "cells": [
  {
   "cell_type": "code",
   "execution_count": 1,
   "id": "1768210b",
   "metadata": {},
   "outputs": [],
   "source": [
    "import random\n",
    "\n",
    "def generate_example():\n",
    "    names = [\"Michael\", \"John\", \"Ali\", \"Emma\", \"David\", \"Sophia\", \"Ryan\", \"Lily\", \"Daniel\", \"Amanda\", \"Jason\", \"Olivia\", \"Mark\", \"Ella\", \"Jake\", \"Sophie\", \"Charlie\", \"Isabella\", \"Max\", \"Lina\", \"Harley\", \"David\", \"Mushtaq\", \"Adeel\"]\n",
    "    payment_methods = [\"credit card\", \"debit card\", \"cash\"]\n",
    "    products = [\"weekend getaway\", \"new iPad\", \"new shoes\", \"luxurious watch\", \"fancy dinner\", \"smartphone\", \"concert tickets\", \"designer handbag\", \"gaming console\", \"spa day\", \"bicycle\", \"cookware\", \"camera\", \"fitness tracker\", \"gourmet cooking class\", \"golf clubs\", \"telescope\", \"art supplies\", \"skateboard\"]\n",
    "    amounts = [\"$100\", \"$150\", \"$200\", \"$300\", \"$400\", \"$500\", \"$600\", \"$700\", \"$800\", \"$900\", \"$1,000\", \"$1,200\", \"$1,500\", \"$2,000\", \"$2,500\", \"$3,000\", \"$4,000\", \"$5,000\", \"$6,000\", \"$7,000\", \"$8,000\", \"$9,000\", \"$10,000\"]\n",
    "\n",
    "    name = random.choice(names)\n",
    "    payment_method = random.choice(payment_methods)\n",
    "    product = random.choice(products)\n",
    "    amount = random.choice(amounts)\n",
    "\n",
    "    example = f\"{name} spent {amount} on a {product} using his {payment_method}.\"\n",
    "    entities = [\n",
    "        (example.find(name), example.find(name) + len(name), 'PERSON'),\n",
    "        (example.find(payment_method), example.find(payment_method) + len(payment_method), 'ENTITY'),\n",
    "        (example.find(amount), example.find(amount) + len(amount), 'AMOUNT'),\n",
    "        (example.find(product), example.find(product) + len(product), 'PRODUCT')\n",
    "    ]\n",
    "\n",
    "    return f\"('{example}', {{'entities': {entities}}})\"\n",
    "\n",
    "# Generate 1000 unique examples\n",
    "generated_examples = [generate_example() for _ in range(1500)]\n",
    "\n",
    "# Save the combined training data to a file\n",
    "with open(\"combined_training_data7.txt\", \"w\", encoding=\"utf-8\") as file:\n",
    "    file.write(',\\n'.join(generated_examples))\n"
   ]
  },
  {
   "cell_type": "code",
   "execution_count": null,
   "id": "a68ec229",
   "metadata": {},
   "outputs": [],
   "source": []
  }
 ],
 "metadata": {
  "kernelspec": {
   "display_name": "Python 3 (ipykernel)",
   "language": "python",
   "name": "python3"
  },
  "language_info": {
   "codemirror_mode": {
    "name": "ipython",
    "version": 3
   },
   "file_extension": ".py",
   "mimetype": "text/x-python",
   "name": "python",
   "nbconvert_exporter": "python",
   "pygments_lexer": "ipython3",
   "version": "3.9.12"
  }
 },
 "nbformat": 4,
 "nbformat_minor": 5
}
